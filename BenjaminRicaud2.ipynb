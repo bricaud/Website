{
 "cells": [
  {
   "cell_type": "markdown",
   "metadata": {
    "collapsed": true
   },
   "source": [
    "## Create a graph of publications from a bibtex file"
   ]
  },
  {
   "cell_type": "markdown",
   "metadata": {},
   "source": [
    "### Extract info from a  bibtex document (optionally, convert it to json)"
   ]
  },
  {
   "cell_type": "code",
   "execution_count": 1,
   "metadata": {
    "collapsed": false
   },
   "outputs": [],
   "source": [
    "# Extract thge text but with latex encoding for the accents:\n",
    "\n",
    "#import bibtexparser\n",
    "#with open('BenjaminRicaud.bib') as bibtex_file:\n",
    "#    bibtex_str = bibtex_file.read()\n",
    "\n",
    "#bib_database = bibtexparser.loads(bibtex_str)\n",
    "#print(bib_database.entries)"
   ]
  },
  {
   "cell_type": "code",
   "execution_count": 2,
   "metadata": {
    "collapsed": true
   },
   "outputs": [],
   "source": [
    "import bibtexparser\n",
    "from bibtexparser.bparser import BibTexParser\n",
    "from bibtexparser.customization import homogeneize_latex_encoding"
   ]
  },
  {
   "cell_type": "code",
   "execution_count": 3,
   "metadata": {
    "collapsed": false
   },
   "outputs": [
    {
     "name": "stdout",
     "output_type": "stream",
     "text": [
      "[{u'author': u'Shuman, David I and Ricaud, Benjamin and Vandergheynst, Pierre', u'booktitle': u'2012 IEEE Statistical Signal Processing Workshop (SSP)', u'title': u'A windowed graph Fourier transform', 'ENTRYTYPE': u'inproceedings', u'note': u'EPFL', u'year': u'2012', u'organization': u'Ieee', 'ID': 'shuman2012windowed', u'pages': u'133--136'}, {u'publisher': u'Elsevier', u'note': u'EPFL', u'author': u'Shuman, David I and Ricaud, Benjamin and Vandergheynst, Pierre', u'journal': u'Applied and Computational Harmonic Analysis', u'title': u'Vertex-frequency analysis on graphs', u'number': u'2', 'ENTRYTYPE': u'article', u'volume': u'40', u'year': u'2016', 'ID': 'shuman2016vertex', u'pages': u'260--291'}, {u'publisher': u'AIP Publishing', u'note': u'CPT-CEA', u'author': u'Clairet, F and Ricaud, B and Briolle, F and Heuraux, S and Bottereau, C', u'journal': u'Review of Scientific Instruments', u'title': u'New signal processing technique for density profile reconstruction using reflectometry', u'number': u'8', 'ENTRYTYPE': u'article', u'volume': u'82', u'year': u'2011', 'ID': 'clairet2011new', u'pages': u'083502'}, {u'publisher': u'Springer', u'note': u'CPT', u'author': u'Cornean, Horia D and Duclos, Pierre and Ricaud, Benjamin', u'journal': u'Few-Body Systems', u'title': u'On critical stability of three quantum charges interacting through delta potentials', u'number': u'2', 'ENTRYTYPE': u'article', u'volume': u'38', u'year': u'2006', 'ID': 'cornean2006critical', u'pages': u'125--131'}, {u'publisher': u'S. Hirzel Verlag', u'note': u'LMA', u'author': u'Ricaud, Benjamin and Guillemain, Philippe and Kergomard, Jean and Silva, Fabrice and Vergez, Christophe', u'journal': u'Acta Acustica united with Acustica', u'title': u'Behavior of reed woodwind instruments around the oscillation threshold', u'number': u'4', 'ENTRYTYPE': u'article', u'volume': u'95', u'year': u'2009', 'ID': 'ricaud2009behavior', u'pages': u'733--743'}, {u'publisher': u'Springer', u'note': u'LATP', u'author': u'Ricaud, Benjamin and Torr\\xe9sani, Bruno', u'journal': u'Advances in Computational Mathematics', u'title': u'A survey of uncertainty principles and some signal processing applications', u'number': u'3', 'ENTRYTYPE': u'article', u'volume': u'40', u'year': u'2014', 'ID': 'ricaud2014survey', u'pages': u'629--650'}, {u'note': u'CPT', u'author': u'Cornean, Horia D and Duclos, Pierre and Ricaud, Benjamin', u'booktitle': u'Annales Henri Poincar\\xe9', u'title': u'Effective models for excitons in carbon nanotubes', u'number': u'1', 'ENTRYTYPE': u'article', u'volume': u'8', u'year': u'2007', u'organization': u'Springer', 'ID': 'cornean2007effective', u'pages': u'135--163'}, {u'publisher': u'Springer', u'note': u'LATP', u'author': u'Ricaud, Benjamin and Stempfel, Guillaume and Torr\\xe9sani, Bruno and Wiesmeyr, Christoph and Lachambre, H\\xe9l\\xe8ne and Onchis, Darian', u'journal': u'Advances in Computational Mathematics', u'title': u'An optimally concentrated Gabor transform for localized time-frequency components', u'number': u'3', 'ENTRYTYPE': u'article', u'volume': u'40', u'year': u'2014', 'ID': 'ricaud2014optimally', u'pages': u'683--702'}, {u'author': u'Feichtinger, Hans Georg and Onchis-Moaca, Darian and Ricaud, Benjamin and Torr\\xe9sani, Bruno and Wiesmeyr, Christoph', u'booktitle': u'Proceedings of the 20th EUSIPCO', u'title': u'A method for optimizing the ambiguity function concentration', 'ENTRYTYPE': u'inproceedings', u'note': u'LATP', u'year': u'2012', u'organization': u'IEEE', 'ID': 'feichtinger2012method', u'pages': u'804--808'}, {u'publisher': u'Springer', u'note': u'CPT-CEA', u'author': u'Briolle, F and Man\\u2019ko, VI and Ricaud, B and Mendes, R Vilela', u'journal': u'Journal of Russian Laser Research', u'title': u'Noncommutative tomography: A tool for data analysis and signal processing', u'number': u'2', 'ENTRYTYPE': u'article', u'volume': u'33', u'year': u'2012', 'ID': 'briolle2012noncommutative', u'pages': u'103--121'}, {u'author': u'Ricaud, Benjamin and Shuman, David I and Vandergheynst, Pierre', u'booktitle': u'SPIE', u'title': u'On the sparsity of wavelet coefficients for signals on graphs', 'ENTRYTYPE': u'inproceedings', u'note': u'EPFL', u'year': u'2013', u'organization': u'International Society for Optics and Photonics', 'ID': 'ricaud2013sparsity', u'pages': u'88581L--88581L'}, {u'author': u'Cornean, Horia D and Duclos, Pierre and Ricaud, Benjamin', u'journal': u'Symposia in Pure Mathematics - Analysis on Graphs and Its Applications', u'title': u'On the skeleton method and an application to a quantum scissor', 'ENTRYTYPE': u'inproceedings', u'note': u'CPT', u'link': u'http://arxiv.org/abs/0801.2627', u'year': u'2008', 'ID': 'cornean2008skeleton', u'abstract': u'In the spectral analysis of few one dimensional quantum particles interacting through delta potentials it is well known that one can recast the problem into the spectral analysis of an integral operator (the skeleton) living on the submanifold which supports the delta interactions. We shall present several tools which allow direct insight into the spectral structure of this skeleton. We shall illustrate the method on a model of a two dimensional quantum particle interacting with two infinitely long straight wires which cross one anonter at angle \\\\theta: the quantum scissor.'}, {u'note': u'CPT', u'author': u'Cornean, Horia D and Pedersen, Thomas G and Ricaud, Benjamin', u'booktitle': u'Adventures in Mathematical Physics', u'title': u'Perturbative vs. variational methods in the study of carbon nanotubes', 'ENTRYTYPE': u'inproceedings', u'volume': u'447', u'year': u'2007', u'organization': u'American Mathematical Soc.', 'ID': 'cornean2007contemporary', u'pages': u'45'}, {u'publisher': u'Ieee', u'note': u'LATP', u'author': u'Ricaud, Benjamin and Torr\\xe9sani, Bruno', u'journal': u'Ieee Transactions On Information Theory', u'title': u'Refined Support and Entropic Uncertainty Inequalities', u'number': u'EPFL-ARTICLE-189504', 'ENTRYTYPE': u'article', u'volume': u'59', u'year': u'2013', 'ID': 'ricaud2013refined', u'pages': u'4272--4279'}, {u'author': u'Perraudin, Nathanael and Ricaud, Benjamin and Shuman, David and Vandergheynst, Pierre', u'journal': u'arXiv preprint arXiv:1603.03030', u'title': u'Global and local uncertainty principles for signals on graphs', 'ID': 'perraudin2016global', u'note': u'EPFL', u'year': u'2016', 'ENTRYTYPE': u'article'}, {u'school': u'Universit\\xe9 du Sud Toulon Var', u'author': u'Ricaud, Benjamin', u'title': u'Mod\\xe9lisation et \\xe9tude des propri\\xe9t\\xe9s optiques des nanotubes de carbone', 'ID': 'ricaud2007modelisation', u'note': u'CPT', u'year': u'2007', 'ENTRYTYPE': u'phdthesis'}, {u'author': u'Smith, Keith and Ricaud, Benjamin and Shahid, Nauman and Rhodes, Stephen and Starr, John M and Ibanez, Agustin and Parra, Mario A and Escudero, Javier and Vandergheynst, Pierre', u'journal': u'arXiv preprint arXiv:1606.02587', u'title': u'The Physiological Underpinnings of Visual Short-Term Memory Binding using Graph Modular Dirichlet Energy: Evidence from Healthy Subjects', 'ID': 'smith2016physiological', u'note': u'EPFL', u'year': u'2016', 'ENTRYTYPE': u'article'}, {u'publisher': u'IEEE', u'note': u'EPFL', u'author': u'Benzi, Kirell and Ricaud, Benjamin and Vandergheynst, Pierre', u'journal': u'IEEE Transactions on Signal and Information Processing over Networks', u'title': u'Principal Patterns on Graphs: Discovering Coherent Structures in Datasets', u'number': u'2', 'ENTRYTYPE': u'article', u'volume': u'2', u'year': u'2016', 'ID': 'benzi2016principal', u'pages': u'160--173'}, {u'author': u'Shahid, Nauman and Perraudin, Nathanael and Kalofolias, Vassilis and Ricaud, Benjamin and Vandergheynst, Pierre', u'booktitle': u'ICASSP', u'title': u'PCA using graph total variation', 'ENTRYTYPE': u'inproceedings', u'note': u'EPFL', u'year': u'2016', u'organization': u'IEEE', 'ID': 'shahid2016pca', u'pages': u'4668--4672'}, {u'publisher': u'AIP Publishing', u'note': u'CPT', u'author': u'Rasmussen, Morten Grud and Ricaud, Benjamin and Savoie, Baptiste', u'journal': u'Journal of Mathematical Physics', u'title': u'On the optical properties of carbon nanotubes. Part I. A general formula for the dynamical optical conductivity', u'number': u'2', 'ENTRYTYPE': u'article', u'volume': u'57', u'year': u'2016', 'ID': 'rasmussen2016optical', u'pages': u'021901'}, {u'author': u'Lachambre, Helene and Ricaud, Benjamin and Stempfel, Guillaume and Torr\\xe9sani, Bruno and Wiesmeyr, Christoph and Onchis-Moaca, Darian', u'booktitle': u'SYNASC', u'title': u'Optimal Window and Lattice in Gabor Transform. Application to Audio Analysis', 'ENTRYTYPE': u'inproceedings', u'note': u'LATP', u'year': u'2015', u'organization': u'IEEE', 'ID': 'lachambre2015optimal', u'pages': u'109--112'}, {u'author': u'Ricaud, Benjamin and Briolle, Francoise and Leoncini, Xavier', u'booktitle': u'Chaos, Complexity and Transport', u'title': u'Detection and Characterization of L\\xe9vy flights in chaotic advection phenomena', 'ID': 'ricaud2011detection', u'note': u'CPT-CEA', u'year': u'2011', u'organization': u'world scientific', 'ENTRYTYPE': u'inproceedings'}]\n"
     ]
    }
   ],
   "source": [
    "from bibtexparser.customization import convert_to_unicode\n",
    "\n",
    "with open('BenjaminRicaud.bib') as bibtex_file:\n",
    "    parser = BibTexParser()\n",
    "    parser.customization = convert_to_unicode\n",
    "    bib_database = bibtexparser.load(bibtex_file, parser=parser)\n",
    "    print(bib_database.entries)"
   ]
  },
  {
   "cell_type": "code",
   "execution_count": 4,
   "metadata": {
    "collapsed": false
   },
   "outputs": [],
   "source": [
    "import json\n",
    "with open('BenjaminRicaud.json', 'w') as f:\n",
    "     json.dump(bib_database.entries, f)"
   ]
  },
  {
   "cell_type": "markdown",
   "metadata": {},
   "source": [
    "### Creating the graph"
   ]
  },
  {
   "cell_type": "code",
   "execution_count": 5,
   "metadata": {
    "collapsed": true
   },
   "outputs": [],
   "source": [
    "import networkx as nx"
   ]
  },
  {
   "cell_type": "markdown",
   "metadata": {},
   "source": [
    "#### Add nodes"
   ]
  },
  {
   "cell_type": "code",
   "execution_count": 6,
   "metadata": {
    "collapsed": true
   },
   "outputs": [],
   "source": [
    "# Add publications as nodes\n",
    "G=nx.Graph()\n",
    "for node in bib_database.entries:\n",
    "    G.add_node(node['ID'])"
   ]
  },
  {
   "cell_type": "code",
   "execution_count": 7,
   "metadata": {
    "collapsed": false
   },
   "outputs": [],
   "source": [
    "# Add the infos about the publication as node properties\n",
    "for node in bib_database.entries:\n",
    "    for key in node.keys():\n",
    "        G.node[node['ID']][key]=node[key]"
   ]
  },
  {
   "cell_type": "code",
   "execution_count": 8,
   "metadata": {
    "collapsed": false
   },
   "outputs": [
    {
     "data": {
      "text/plain": [
       "{'ENTRYTYPE': u'inproceedings',\n",
       " 'ID': 'ricaud2011detection',\n",
       " u'author': u'Ricaud, Benjamin and Briolle, Francoise and Leoncini, Xavier',\n",
       " u'booktitle': u'Chaos, Complexity and Transport',\n",
       " u'note': u'CPT-CEA',\n",
       " u'organization': u'world scientific',\n",
       " u'title': u'Detection and Characterization of L\\xe9vy flights in chaotic advection phenomena',\n",
       " u'year': u'2011'}"
      ]
     },
     "execution_count": 8,
     "metadata": {},
     "output_type": "execute_result"
    }
   ],
   "source": [
    "# Example:\n",
    "G.node[node['ID']]"
   ]
  },
  {
   "cell_type": "markdown",
   "metadata": {},
   "source": [
    "#### Add edges"
   ]
  },
  {
   "cell_type": "code",
   "execution_count": 9,
   "metadata": {
    "collapsed": false
   },
   "outputs": [
    {
     "name": "stdout",
     "output_type": "stream",
     "text": [
      "Shuman, David I and Ricaud, Benjamin and Vandergheynst, Pierre\n",
      "Shuman, David I and Ricaud, Benjamin and Vandergheynst, Pierre\n",
      "Clairet, F and Ricaud, B and Briolle, F and Heuraux, S and Bottereau, C\n",
      "Cornean, Horia D and Duclos, Pierre and Ricaud, Benjamin\n",
      "Ricaud, Benjamin and Guillemain, Philippe and Kergomard, Jean and Silva, Fabrice and Vergez, Christophe\n",
      "Ricaud, Benjamin and Torrésani, Bruno\n",
      "Cornean, Horia D and Duclos, Pierre and Ricaud, Benjamin\n",
      "Ricaud, Benjamin and Stempfel, Guillaume and Torrésani, Bruno and Wiesmeyr, Christoph and Lachambre, Hélène and Onchis, Darian\n",
      "Feichtinger, Hans Georg and Onchis-Moaca, Darian and Ricaud, Benjamin and Torrésani, Bruno and Wiesmeyr, Christoph\n",
      "Briolle, F and Man’ko, VI and Ricaud, B and Mendes, R Vilela\n",
      "Ricaud, Benjamin and Shuman, David I and Vandergheynst, Pierre\n",
      "Cornean, Horia D and Duclos, Pierre and Ricaud, Benjamin\n",
      "Cornean, Horia D and Pedersen, Thomas G and Ricaud, Benjamin\n",
      "Ricaud, Benjamin and Torrésani, Bruno\n",
      "Perraudin, Nathanael and Ricaud, Benjamin and Shuman, David and Vandergheynst, Pierre\n",
      "Ricaud, Benjamin\n",
      "Smith, Keith and Ricaud, Benjamin and Shahid, Nauman and Rhodes, Stephen and Starr, John M and Ibanez, Agustin and Parra, Mario A and Escudero, Javier and Vandergheynst, Pierre\n",
      "Benzi, Kirell and Ricaud, Benjamin and Vandergheynst, Pierre\n",
      "Shahid, Nauman and Perraudin, Nathanael and Kalofolias, Vassilis and Ricaud, Benjamin and Vandergheynst, Pierre\n",
      "Rasmussen, Morten Grud and Ricaud, Benjamin and Savoie, Baptiste\n",
      "Lachambre, Helene and Ricaud, Benjamin and Stempfel, Guillaume and Torrésani, Bruno and Wiesmeyr, Christoph and Onchis-Moaca, Darian\n",
      "Ricaud, Benjamin and Briolle, Francoise and Leoncini, Xavier\n"
     ]
    }
   ],
   "source": [
    "for node in bib_database.entries:\n",
    "    print node['author']"
   ]
  },
  {
   "cell_type": "code",
   "execution_count": 10,
   "metadata": {
    "collapsed": true
   },
   "outputs": [],
   "source": [
    "#G = nx.convert_node_labels_to_integers(G, first_label=1, ordering='default', label_attribute='bib_id')"
   ]
  },
  {
   "cell_type": "code",
   "execution_count": 11,
   "metadata": {
    "collapsed": false
   },
   "outputs": [],
   "source": [
    "# Co-author list of B Ricaud\n",
    "coauthorslist = ['Shuman','Vandergheynst','Clairet','Briolle','Heuraux','Bottereau','Cornean','Duclos',\n",
    "                 'Guillemain','Kergomard','Silva','Vergez','Torr','Stempfel','Wiesmeyr','Lachambre','Onchis',\n",
    "                'Feichtinger','Man\\'ko','Mendes','Pedersen','Perraudin','Smith','Shahid','Rhodes','Starr','Ibanez',\n",
    "                'Parra','Escudero','Benzi','Kalofolias','Rasmussen','Savoie','Leoncini']"
   ]
  },
  {
   "cell_type": "code",
   "execution_count": 12,
   "metadata": {
    "collapsed": false
   },
   "outputs": [
    {
     "data": {
      "text/plain": [
       "['Shuman',\n",
       " 'Vandergheynst',\n",
       " 'Clairet',\n",
       " 'Briolle',\n",
       " 'Heuraux',\n",
       " 'Bottereau',\n",
       " 'Cornean',\n",
       " 'Duclos',\n",
       " 'Guillemain',\n",
       " 'Kergomard',\n",
       " 'Silva',\n",
       " 'Vergez',\n",
       " 'Torr',\n",
       " 'Stempfel',\n",
       " 'Wiesmeyr',\n",
       " 'Lachambre',\n",
       " 'Onchis',\n",
       " 'Feichtinger',\n",
       " \"Man'ko\",\n",
       " 'Mendes',\n",
       " 'Pedersen',\n",
       " 'Perraudin',\n",
       " 'Smith',\n",
       " 'Shahid',\n",
       " 'Rhodes',\n",
       " 'Starr',\n",
       " 'Ibanez',\n",
       " 'Parra',\n",
       " 'Escudero',\n",
       " 'Benzi',\n",
       " 'Kalofolias',\n",
       " 'Rasmussen',\n",
       " 'Savoie',\n",
       " 'Leoncini']"
      ]
     },
     "execution_count": 12,
     "metadata": {},
     "output_type": "execute_result"
    }
   ],
   "source": [
    "coauthorslist"
   ]
  },
  {
   "cell_type": "code",
   "execution_count": 13,
   "metadata": {
    "collapsed": false
   },
   "outputs": [],
   "source": [
    "# Convert the authors to a feature vector\n",
    "import string\n",
    "import numpy as np\n",
    "coauthorindexdic ={}\n",
    "for entries in bib_database.entries:\n",
    "    rlist=[]\n",
    "    entries_id = entries['ID']\n",
    "    for coauthor in coauthorslist:\n",
    "        r =string.find(entries['author'],coauthor)+1\n",
    "        if r>0: r=1\n",
    "        rlist.append(r)\n",
    "    coauthorindexdic.update({entries_id:np.array(rlist)})\n",
    "        "
   ]
  },
  {
   "cell_type": "code",
   "execution_count": 14,
   "metadata": {
    "collapsed": false
   },
   "outputs": [],
   "source": [
    "# Compare the feature vector between nodes and create edges\n",
    "# The weight is the number of authors in common\n",
    "for sourcenode in G.node:\n",
    "    for targetnode in G.node:\n",
    "        dist = coauthorindexdic[sourcenode]*coauthorindexdic[targetnode]\n",
    "        #print dist\n",
    "        weight = np.sum(dist)\n",
    "        if weight:\n",
    "            #G.edge[sourcenode][targetnode]['weight']=weight\n",
    "            G.add_edge(sourcenode, targetnode, weight=weight )\n",
    "        "
   ]
  },
  {
   "cell_type": "code",
   "execution_count": 15,
   "metadata": {
    "collapsed": false
   },
   "outputs": [],
   "source": [
    "# Optional : plot the graph\n",
    "if 0:\n",
    "    import matplotlib.pyplot as plt\n",
    "    nx.draw_spring(G)\n",
    "    plt.show()"
   ]
  },
  {
   "cell_type": "code",
   "execution_count": 16,
   "metadata": {
    "collapsed": true
   },
   "outputs": [],
   "source": [
    "# Create the central node Benjamin"
   ]
  },
  {
   "cell_type": "code",
   "execution_count": 17,
   "metadata": {
    "collapsed": false
   },
   "outputs": [],
   "source": [
    "G.add_node('Benjamin')\n",
    "G.node['Benjamin']['note']='Person'\n",
    "G.node['Benjamin']['ID']='Benjamin'\n",
    "G.node['Benjamin']['title']='Benjamin'\n",
    "for papernode in G.node:\n",
    "    G.add_edge('Benjamin', papernode, weight=1)"
   ]
  },
  {
   "cell_type": "markdown",
   "metadata": {
    "collapsed": true
   },
   "source": [
    "### Save the graph"
   ]
  },
  {
   "cell_type": "code",
   "execution_count": null,
   "metadata": {
    "collapsed": false
   },
   "outputs": [],
   "source": []
  },
  {
   "cell_type": "code",
   "execution_count": 18,
   "metadata": {
    "collapsed": false
   },
   "outputs": [],
   "source": [
    "from networkx.readwrite import json_graph\n",
    "data = json_graph.node_link_data(G,attrs={'source': 'source', 'target': 'target', 'key': 'key', 'id': 'id'})\n",
    "s = json.dumps(data)\n",
    "with open('GraphBRicaud.json', 'w') as f:\n",
    "     json.dump(data, f,indent=4)"
   ]
  },
  {
   "cell_type": "code",
   "execution_count": 19,
   "metadata": {
    "collapsed": false
   },
   "outputs": [
    {
     "data": {
      "text/plain": [
       "'Benjamin'"
      ]
     },
     "execution_count": 19,
     "metadata": {},
     "output_type": "execute_result"
    }
   ],
   "source": [
    "G.node['Benjamin']['ID']"
   ]
  },
  {
   "cell_type": "code",
   "execution_count": 20,
   "metadata": {
    "collapsed": false
   },
   "outputs": [
    {
     "data": {
      "text/plain": [
       "{'ENTRYTYPE': u'inproceedings',\n",
       " 'ID': 'cornean2007contemporary',\n",
       " u'author': u'Cornean, Horia D and Pedersen, Thomas G and Ricaud, Benjamin',\n",
       " u'booktitle': u'Adventures in Mathematical Physics',\n",
       " u'note': u'CPT',\n",
       " u'organization': u'American Mathematical Soc.',\n",
       " u'pages': u'45',\n",
       " u'title': u'Perturbative vs. variational methods in the study of carbon nanotubes',\n",
       " u'volume': u'447',\n",
       " u'year': u'2007'}"
      ]
     },
     "execution_count": 20,
     "metadata": {},
     "output_type": "execute_result"
    }
   ],
   "source": [
    "G.node['cornean2007contemporary']"
   ]
  },
  {
   "cell_type": "code",
   "execution_count": 21,
   "metadata": {
    "collapsed": false
   },
   "outputs": [
    {
     "data": {
      "text/plain": [
       "'{\"directed\": false, \"graph\": {}, \"nodes\": [{\"note\": \"CPT\", \"author\": \"Cornean, Horia D and Pedersen, Thomas G and Ricaud, Benjamin\", \"ENTRYTYPE\": \"inproceedings\", \"booktitle\": \"Adventures in Mathematical Physics\", \"title\": \"Perturbative vs. variational methods in the study of carbon nanotubes\", \"pages\": \"45\", \"volume\": \"447\", \"year\": \"2007\", \"id\": \"cornean2007contemporary\", \"organization\": \"American Mathematical Soc.\", \"ID\": \"cornean2007contemporary\"}, {\"publisher\": \"Springer\", \"note\": \"LATP\", \"author\": \"Ricaud, Benjamin and Stempfel, Guillaume and Torr\\\\u00e9sani, Bruno and Wiesmeyr, Christoph and Lachambre, H\\\\u00e9l\\\\u00e8ne and Onchis, Darian\", \"ENTRYTYPE\": \"article\", \"journal\": \"Advances in Computational Mathematics\", \"title\": \"An optimally concentrated Gabor transform for localized time-frequency components\", \"number\": \"3\", \"pages\": \"683--702\", \"volume\": \"40\", \"year\": \"2014\", \"id\": \"ricaud2014optimally\", \"ID\": \"ricaud2014optimally\"}, {\"publisher\": \"Ieee\", \"note\": \"LATP\", \"author\": \"Ricaud, Benjamin and Torr\\\\u00e9sani, Bruno\", \"ENTRYTYPE\": \"article\", \"journal\": \"Ieee Transactions On Information Theory\", \"title\": \"Refined Support and Entropic Uncertainty Inequalities\", \"number\": \"EPFL-ARTICLE-189504\", \"pages\": \"4272--4279\", \"volume\": \"59\", \"year\": \"2013\", \"id\": \"ricaud2013refined\", \"ID\": \"ricaud2013refined\"}, {\"author\": \"Smith, Keith and Ricaud, Benjamin and Shahid, Nauman and Rhodes, Stephen and Starr, John M and Ibanez, Agustin and Parra, Mario A and Escudero, Javier and Vandergheynst, Pierre\", \"journal\": \"arXiv preprint arXiv:1606.02587\", \"title\": \"The Physiological Underpinnings of Visual Short-Term Memory Binding using Graph Modular Dirichlet Energy: Evidence from Healthy Subjects\", \"ID\": \"smith2016physiological\", \"note\": \"EPFL\", \"year\": \"2016\", \"id\": \"smith2016physiological\", \"ENTRYTYPE\": \"article\"}, {\"author\": \"Shahid, Nauman and Perraudin, Nathanael and Kalofolias, Vassilis and Ricaud, Benjamin and Vandergheynst, Pierre\", \"ENTRYTYPE\": \"inproceedings\", \"booktitle\": \"ICASSP\", \"title\": \"PCA using graph total variation\", \"ID\": \"shahid2016pca\", \"note\": \"EPFL\", \"year\": \"2016\", \"id\": \"shahid2016pca\", \"organization\": \"IEEE\", \"pages\": \"4668--4672\"}, {\"note\": \"Person\", \"id\": \"Benjamin\", \"ID\": \"Benjamin\", \"title\": \"Benjamin\"}, {\"publisher\": \"Elsevier\", \"note\": \"EPFL\", \"author\": \"Shuman, David I and Ricaud, Benjamin and Vandergheynst, Pierre\", \"ENTRYTYPE\": \"article\", \"journal\": \"Applied and Computational Harmonic Analysis\", \"title\": \"Vertex-frequency analysis on graphs\", \"number\": \"2\", \"pages\": \"260--291\", \"volume\": \"40\", \"year\": \"2016\", \"id\": \"shuman2016vertex\", \"ID\": \"shuman2016vertex\"}, {\"author\": \"Shuman, David I and Ricaud, Benjamin and Vandergheynst, Pierre\", \"ENTRYTYPE\": \"inproceedings\", \"booktitle\": \"2012 IEEE Statistical Signal Processing Workshop (SSP)\", \"title\": \"A windowed graph Fourier transform\", \"ID\": \"shuman2012windowed\", \"note\": \"EPFL\", \"year\": \"2012\", \"id\": \"shuman2012windowed\", \"organization\": \"Ieee\", \"pages\": \"133--136\"}, {\"publisher\": \"IEEE\", \"note\": \"EPFL\", \"author\": \"Benzi, Kirell and Ricaud, Benjamin and Vandergheynst, Pierre\", \"ENTRYTYPE\": \"article\", \"journal\": \"IEEE Transactions on Signal and Information Processing over Networks\", \"title\": \"Principal Patterns on Graphs: Discovering Coherent Structures in Datasets\", \"number\": \"2\", \"pages\": \"160--173\", \"volume\": \"2\", \"year\": \"2016\", \"id\": \"benzi2016principal\", \"ID\": \"benzi2016principal\"}, {\"publisher\": \"Springer\", \"note\": \"CPT\", \"author\": \"Cornean, Horia D and Duclos, Pierre and Ricaud, Benjamin\", \"ENTRYTYPE\": \"article\", \"journal\": \"Few-Body Systems\", \"title\": \"On critical stability of three quantum charges interacting through delta potentials\", \"number\": \"2\", \"pages\": \"125--131\", \"volume\": \"38\", \"year\": \"2006\", \"id\": \"cornean2006critical\", \"ID\": \"cornean2006critical\"}, {\"publisher\": \"AIP Publishing\", \"note\": \"CPT-CEA\", \"author\": \"Clairet, F and Ricaud, B and Briolle, F and Heuraux, S and Bottereau, C\", \"ENTRYTYPE\": \"article\", \"journal\": \"Review of Scientific Instruments\", \"title\": \"New signal processing technique for density profile reconstruction using reflectometry\", \"number\": \"8\", \"pages\": \"083502\", \"volume\": \"82\", \"year\": \"2011\", \"id\": \"clairet2011new\", \"ID\": \"clairet2011new\"}, {\"note\": \"CPT\", \"author\": \"Cornean, Horia D and Duclos, Pierre and Ricaud, Benjamin\", \"ENTRYTYPE\": \"article\", \"booktitle\": \"Annales Henri Poincar\\\\u00e9\", \"title\": \"Effective models for excitons in carbon nanotubes\", \"number\": \"1\", \"pages\": \"135--163\", \"volume\": \"8\", \"year\": \"2007\", \"id\": \"cornean2007effective\", \"organization\": \"Springer\", \"ID\": \"cornean2007effective\"}, {\"publisher\": \"Springer\", \"note\": \"LATP\", \"author\": \"Ricaud, Benjamin and Torr\\\\u00e9sani, Bruno\", \"ENTRYTYPE\": \"article\", \"journal\": \"Advances in Computational Mathematics\", \"title\": \"A survey of uncertainty principles and some signal processing applications\", \"number\": \"3\", \"pages\": \"629--650\", \"volume\": \"40\", \"year\": \"2014\", \"id\": \"ricaud2014survey\", \"ID\": \"ricaud2014survey\"}, {\"author\": \"Lachambre, Helene and Ricaud, Benjamin and Stempfel, Guillaume and Torr\\\\u00e9sani, Bruno and Wiesmeyr, Christoph and Onchis-Moaca, Darian\", \"ENTRYTYPE\": \"inproceedings\", \"booktitle\": \"SYNASC\", \"title\": \"Optimal Window and Lattice in Gabor Transform. Application to Audio Analysis\", \"ID\": \"lachambre2015optimal\", \"note\": \"LATP\", \"year\": \"2015\", \"id\": \"lachambre2015optimal\", \"organization\": \"IEEE\", \"pages\": \"109--112\"}, {\"author\": \"Feichtinger, Hans Georg and Onchis-Moaca, Darian and Ricaud, Benjamin and Torr\\\\u00e9sani, Bruno and Wiesmeyr, Christoph\", \"ENTRYTYPE\": \"inproceedings\", \"booktitle\": \"Proceedings of the 20th EUSIPCO\", \"title\": \"A method for optimizing the ambiguity function concentration\", \"ID\": \"feichtinger2012method\", \"note\": \"LATP\", \"year\": \"2012\", \"id\": \"feichtinger2012method\", \"organization\": \"IEEE\", \"pages\": \"804--808\"}, {\"author\": \"Ricaud, Benjamin and Shuman, David I and Vandergheynst, Pierre\", \"ENTRYTYPE\": \"inproceedings\", \"booktitle\": \"SPIE\", \"title\": \"On the sparsity of wavelet coefficients for signals on graphs\", \"ID\": \"ricaud2013sparsity\", \"note\": \"EPFL\", \"year\": \"2013\", \"id\": \"ricaud2013sparsity\", \"organization\": \"International Society for Optics and Photonics\", \"pages\": \"88581L--88581L\"}, {\"author\": \"Ricaud, Benjamin and Briolle, Francoise and Leoncini, Xavier\", \"booktitle\": \"Chaos, Complexity and Transport\", \"title\": \"Detection and Characterization of L\\\\u00e9vy flights in chaotic advection phenomena\", \"ID\": \"ricaud2011detection\", \"note\": \"CPT-CEA\", \"year\": \"2011\", \"id\": \"ricaud2011detection\", \"organization\": \"world scientific\", \"ENTRYTYPE\": \"inproceedings\"}, {\"publisher\": \"Springer\", \"note\": \"CPT-CEA\", \"author\": \"Briolle, F and Man\\\\u2019ko, VI and Ricaud, B and Mendes, R Vilela\", \"ENTRYTYPE\": \"article\", \"journal\": \"Journal of Russian Laser Research\", \"title\": \"Noncommutative tomography: A tool for data analysis and signal processing\", \"number\": \"2\", \"pages\": \"103--121\", \"volume\": \"33\", \"year\": \"2012\", \"id\": \"briolle2012noncommutative\", \"ID\": \"briolle2012noncommutative\"}, {\"author\": \"Perraudin, Nathanael and Ricaud, Benjamin and Shuman, David and Vandergheynst, Pierre\", \"journal\": \"arXiv preprint arXiv:1603.03030\", \"title\": \"Global and local uncertainty principles for signals on graphs\", \"ID\": \"perraudin2016global\", \"note\": \"EPFL\", \"year\": \"2016\", \"id\": \"perraudin2016global\", \"ENTRYTYPE\": \"article\"}, {\"publisher\": \"S. Hirzel Verlag\", \"note\": \"LMA\", \"author\": \"Ricaud, Benjamin and Guillemain, Philippe and Kergomard, Jean and Silva, Fabrice and Vergez, Christophe\", \"ENTRYTYPE\": \"article\", \"journal\": \"Acta Acustica united with Acustica\", \"title\": \"Behavior of reed woodwind instruments around the oscillation threshold\", \"number\": \"4\", \"pages\": \"733--743\", \"volume\": \"95\", \"year\": \"2009\", \"id\": \"ricaud2009behavior\", \"ID\": \"ricaud2009behavior\"}, {\"publisher\": \"AIP Publishing\", \"note\": \"CPT\", \"author\": \"Rasmussen, Morten Grud and Ricaud, Benjamin and Savoie, Baptiste\", \"ENTRYTYPE\": \"article\", \"journal\": \"Journal of Mathematical Physics\", \"title\": \"On the optical properties of carbon nanotubes. Part I. A general formula for the dynamical optical conductivity\", \"number\": \"2\", \"pages\": \"021901\", \"volume\": \"57\", \"year\": \"2016\", \"id\": \"rasmussen2016optical\", \"ID\": \"rasmussen2016optical\"}, {\"school\": \"Universit\\\\u00e9 du Sud Toulon Var\", \"author\": \"Ricaud, Benjamin\", \"title\": \"Mod\\\\u00e9lisation et \\\\u00e9tude des propri\\\\u00e9t\\\\u00e9s optiques des nanotubes de carbone\", \"ID\": \"ricaud2007modelisation\", \"note\": \"CPT\", \"year\": \"2007\", \"id\": \"ricaud2007modelisation\", \"ENTRYTYPE\": \"phdthesis\"}, {\"author\": \"Cornean, Horia D and Duclos, Pierre and Ricaud, Benjamin\", \"ENTRYTYPE\": \"inproceedings\", \"journal\": \"Symposia in Pure Mathematics - Analysis on Graphs and Its Applications\", \"title\": \"On the skeleton method and an application to a quantum scissor\", \"ID\": \"cornean2008skeleton\", \"note\": \"CPT\", \"link\": \"http://arxiv.org/abs/0801.2627\", \"year\": \"2008\", \"id\": \"cornean2008skeleton\", \"abstract\": \"In the spectral analysis of few one dimensional quantum particles interacting through delta potentials it is well known that one can recast the problem into the spectral analysis of an integral operator (the skeleton) living on the submanifold which supports the delta interactions. We shall present several tools which allow direct insight into the spectral structure of this skeleton. We shall illustrate the method on a model of a two dimensional quantum particle interacting with two infinitely long straight wires which cross one anonter at angle \\\\\\\\theta: the quantum scissor.\"}], \"links\": [{\"source\": 0, \"target\": 5, \"weight\": 1}, {\"source\": 0, \"target\": 22, \"weight\": 1}, {\"source\": 0, \"target\": 9, \"weight\": 1}, {\"source\": 0, \"target\": 0, \"weight\": 2}, {\"source\": 0, \"target\": 11, \"weight\": 1}, {\"source\": 1, \"target\": 5, \"weight\": 1}, {\"source\": 1, \"target\": 2, \"weight\": 1}, {\"source\": 1, \"target\": 12, \"weight\": 1}, {\"source\": 1, \"target\": 1, \"weight\": 5}, {\"source\": 1, \"target\": 14, \"weight\": 3}, {\"source\": 1, \"target\": 13, \"weight\": 5}, {\"source\": 2, \"target\": 5, \"weight\": 1}, {\"source\": 2, \"target\": 2, \"weight\": 1}, {\"source\": 2, \"target\": 12, \"weight\": 1}, {\"source\": 2, \"target\": 14, \"weight\": 1}, {\"source\": 2, \"target\": 13, \"weight\": 1}, {\"source\": 3, \"target\": 5, \"weight\": 1}, {\"source\": 3, \"target\": 15, \"weight\": 1}, {\"source\": 3, \"target\": 6, \"weight\": 1}, {\"source\": 3, \"target\": 7, \"weight\": 1}, {\"source\": 3, \"target\": 18, \"weight\": 1}, {\"source\": 3, \"target\": 8, \"weight\": 1}, {\"source\": 3, \"target\": 3, \"weight\": 8}, {\"source\": 3, \"target\": 4, \"weight\": 2}, {\"source\": 4, \"target\": 5, \"weight\": 1}, {\"source\": 4, \"target\": 15, \"weight\": 1}, {\"source\": 4, \"target\": 6, \"weight\": 1}, {\"source\": 4, \"target\": 7, \"weight\": 1}, {\"source\": 4, \"target\": 18, \"weight\": 2}, {\"source\": 4, \"target\": 8, \"weight\": 1}, {\"source\": 4, \"target\": 4, \"weight\": 4}, {\"source\": 5, \"target\": 5, \"weight\": 1}, {\"source\": 5, \"target\": 6, \"weight\": 1}, {\"source\": 5, \"target\": 7, \"weight\": 1}, {\"source\": 5, \"target\": 8, \"weight\": 1}, {\"source\": 5, \"target\": 9, \"weight\": 1}, {\"source\": 5, \"target\": 10, \"weight\": 1}, {\"source\": 5, \"target\": 11, \"weight\": 1}, {\"source\": 5, \"target\": 12, \"weight\": 1}, {\"source\": 5, \"target\": 13, \"weight\": 1}, {\"source\": 5, \"target\": 14, \"weight\": 1}, {\"source\": 5, \"target\": 15, \"weight\": 1}, {\"source\": 5, \"target\": 16, \"weight\": 1}, {\"source\": 5, \"target\": 17, \"weight\": 1}, {\"source\": 5, \"target\": 21, \"weight\": 1}, {\"source\": 5, \"target\": 19, \"weight\": 1}, {\"source\": 5, \"target\": 20, \"weight\": 1}, {\"source\": 5, \"target\": 18, \"weight\": 1}, {\"source\": 5, \"target\": 22, \"weight\": 1}, {\"source\": 6, \"target\": 15, \"weight\": 2}, {\"source\": 6, \"target\": 6, \"weight\": 2}, {\"source\": 6, \"target\": 7, \"weight\": 2}, {\"source\": 6, \"target\": 18, \"weight\": 2}, {\"source\": 6, \"target\": 8, \"weight\": 1}, {\"source\": 7, \"target\": 15, \"weight\": 2}, {\"source\": 7, \"target\": 7, \"weight\": 2}, {\"source\": 7, \"target\": 18, \"weight\": 2}, {\"source\": 7, \"target\": 8, \"weight\": 1}, {\"source\": 8, \"target\": 15, \"weight\": 1}, {\"source\": 8, \"target\": 18, \"weight\": 1}, {\"source\": 8, \"target\": 8, \"weight\": 2}, {\"source\": 9, \"target\": 22, \"weight\": 2}, {\"source\": 9, \"target\": 9, \"weight\": 2}, {\"source\": 9, \"target\": 11, \"weight\": 2}, {\"source\": 10, \"target\": 16, \"weight\": 1}, {\"source\": 10, \"target\": 10, \"weight\": 4}, {\"source\": 10, \"target\": 17, \"weight\": 1}, {\"source\": 11, \"target\": 22, \"weight\": 2}, {\"source\": 11, \"target\": 11, \"weight\": 2}, {\"source\": 12, \"target\": 12, \"weight\": 1}, {\"source\": 12, \"target\": 14, \"weight\": 1}, {\"source\": 12, \"target\": 13, \"weight\": 1}, {\"source\": 13, \"target\": 14, \"weight\": 3}, {\"source\": 13, \"target\": 13, \"weight\": 5}, {\"source\": 14, \"target\": 14, \"weight\": 4}, {\"source\": 15, \"target\": 15, \"weight\": 2}, {\"source\": 15, \"target\": 18, \"weight\": 2}, {\"source\": 16, \"target\": 16, \"weight\": 2}, {\"source\": 16, \"target\": 17, \"weight\": 1}, {\"source\": 17, \"target\": 17, \"weight\": 2}, {\"source\": 18, \"target\": 18, \"weight\": 3}, {\"source\": 19, \"target\": 19, \"weight\": 4}, {\"source\": 20, \"target\": 20, \"weight\": 2}, {\"source\": 22, \"target\": 22, \"weight\": 2}], \"multigraph\": false}'"
      ]
     },
     "execution_count": 21,
     "metadata": {},
     "output_type": "execute_result"
    }
   ],
   "source": [
    "s"
   ]
  },
  {
   "cell_type": "code",
   "execution_count": null,
   "metadata": {
    "collapsed": true
   },
   "outputs": [],
   "source": []
  }
 ],
 "metadata": {
  "kernelspec": {
   "display_name": "Python 2",
   "language": "python",
   "name": "python2"
  },
  "language_info": {
   "codemirror_mode": {
    "name": "ipython",
    "version": 2
   },
   "file_extension": ".py",
   "mimetype": "text/x-python",
   "name": "python",
   "nbconvert_exporter": "python",
   "pygments_lexer": "ipython2",
   "version": "2.7.12"
  }
 },
 "nbformat": 4,
 "nbformat_minor": 0
}
